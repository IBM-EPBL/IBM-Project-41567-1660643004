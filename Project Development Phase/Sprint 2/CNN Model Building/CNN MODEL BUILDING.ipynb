{
 "cells": [
  {
   "cell_type": "markdown",
   "id": "a9499c95",
   "metadata": {},
   "source": [
    "# Image Data PreProcessing"
   ]
  },
  {
   "cell_type": "markdown",
   "id": "09b114ca",
   "metadata": {},
   "source": [
    "# # Importing necessary Libreries"
   ]
  },
  {
   "cell_type": "code",
   "execution_count": 25,
   "id": "a3176665",
   "metadata": {},
   "outputs": [],
   "source": [
    "#import required libraries\n",
    "import numpy as np\n",
    "import pandas as pd\n",
    "import matplotlib.pyplot as plt\n",
    "from tensorflow.keras.preprocessing.image import ImageDataGenerator\n",
    "from tensorflow.keras.models import Sequential\n",
    "from tensorflow.keras.layers import Conv2D, MaxPool2D, Flatten, Dense, Dropout\n",
    "from tensorflow.keras.callbacks import EarlyStopping, ReduceLROnPlateau\n",
    "from tensorflow.keras.models import load_model\n",
    "from tensorflow.keras.preprocessing import image\n",
    "import warnings\n",
    "warnings.filterwarnings(\"ignore\")\n",
    "\n"
   ]
  },
  {
   "cell_type": "markdown",
   "id": "7a200dca",
   "metadata": {},
   "source": [
    "# Data Augumentation\n",
    "\n"
   ]
  },
  {
   "cell_type": "code",
   "execution_count": 29,
   "id": "ce70c3c9",
   "metadata": {},
   "outputs": [],
   "source": [
    "# Data Generator\n",
    "\n",
    "train_data_generator = ImageDataGenerator(rescale=1./255,\n",
    "                                          rotation_range=90,\n",
    "                                          width_shift_range=0.4,\n",
    "                                          fill_mode='reflect',\n",
    "                                          vertical_flip=True,\n",
    "                                          channel_shift_range=150.0,\n",
    "                                          zoom_range=[0.5, 1.5],\n",
    "                                          shear_range=45.0,\n",
    "                                          brightness_range=(0.2, 0.8))\n",
    "\n",
    "test_data_generator = ImageDataGenerator(rescale=1./255)"
   ]
  },
  {
   "cell_type": "markdown",
   "id": "0ef0897a",
   "metadata": {},
   "source": [
    "# Applying ImageDataGenerator Functionality To Trainset "
   ]
  },
  {
   "cell_type": "code",
   "execution_count": 36,
   "id": "df1a54a6",
   "metadata": {},
   "outputs": [
    {
     "name": "stdout",
     "output_type": "stream",
     "text": [
      "Found 436 images belonging to 2 classes.\n",
      "Found 121 images belonging to 2 classes.\n"
     ]
    }
   ],
   "source": [
    "train_data = train_data_generator.flow_from_directory(r\"./Dataset/Dataset/train_set\",\n",
    "                                                      target_size=(64,64),\n",
    "                                                      batch_size=50,\n",
    "                                                      class_mode='binary',\n",
    "                                                      shuffle=True,\n",
    "                                                      color_mode='rgb')\n",
    "#Applying ImageDataGenerator Functionality To  Testset\n",
    "\n",
    "test_data = test_data_generator.flow_from_directory(r\"./Dataset/Dataset/test_set\",\n",
    "                                                      target_size=(64,64),\n",
    "                                                      batch_size=50,\n",
    "                                                      class_mode='binary',\n",
    "                                                      shuffle=True,\n",
    "                                                      color_mode='rgb')                                                  "
   ]
  },
  {
   "cell_type": "markdown",
   "id": "fb0f584d",
   "metadata": {},
   "source": [
    "# Model Building"
   ]
  },
  {
   "cell_type": "code",
   "execution_count": 37,
   "id": "9f332f7f",
   "metadata": {},
   "outputs": [],
   "source": [
    "# Initializing the Model\n",
    "model = Sequential()\n",
    "# Adding CNN Layers\n",
    "#convolution and Pooling layer 1\n",
    "model.add(Conv2D(filters=48,kernel_size=3,activation='relu',input_shape=(64,64,3)))\n",
    "model.add(MaxPool2D(pool_size=2,strides=2))\n",
    "model.add(Dropout(0.4))\n",
    "\n",
    "#convolution and Pooling layer 2\n",
    "model.add(Conv2D(filters=32,kernel_size=3,activation='relu'))\n",
    "model.add(MaxPool2D(pool_size=2,strides=2))\n",
    "model.add(Dropout(0.4))\n",
    "\n",
    "#Flattening the images\n",
    "model.add(Flatten())\n",
    "\n",
    "# Add Dense Layer\n",
    "model.add(Dense(64,activation='relu'))\n",
    "model.add(Dropout(0.4))\n",
    "model.add(Dense(1,activation='sigmoid'))"
   ]
  },
  {
   "cell_type": "code",
   "execution_count": 32,
   "id": "3790dd96",
   "metadata": {},
   "outputs": [
    {
     "name": "stdout",
     "output_type": "stream",
     "text": [
      "Model: \"sequential\"\n",
      "_________________________________________________________________\n",
      " Layer (type)                Output Shape              Param #   \n",
      "=================================================================\n",
      " conv2d (Conv2D)             (None, 62, 62, 48)        1344      \n",
      "                                                                 \n",
      " max_pooling2d (MaxPooling2D  (None, 31, 31, 48)       0         \n",
      " )                                                               \n",
      "                                                                 \n",
      " dropout (Dropout)           (None, 31, 31, 48)        0         \n",
      "                                                                 \n",
      " conv2d_1 (Conv2D)           (None, 29, 29, 32)        13856     \n",
      "                                                                 \n",
      " max_pooling2d_1 (MaxPooling  (None, 14, 14, 32)       0         \n",
      " 2D)                                                             \n",
      "                                                                 \n",
      " dropout_1 (Dropout)         (None, 14, 14, 32)        0         \n",
      "                                                                 \n",
      " flatten (Flatten)           (None, 6272)              0         \n",
      "                                                                 \n",
      " dense (Dense)               (None, 64)                401472    \n",
      "                                                                 \n",
      " dropout_2 (Dropout)         (None, 64)                0         \n",
      "                                                                 \n",
      " dense_1 (Dense)             (None, 1)                 65        \n",
      "                                                                 \n",
      "=================================================================\n",
      "Total params: 416,737\n",
      "Trainable params: 416,737\n",
      "Non-trainable params: 0\n",
      "_________________________________________________________________\n"
     ]
    }
   ],
   "source": [
    "model.summary()"
   ]
  },
  {
   "cell_type": "code",
   "execution_count": 33,
   "id": "21c0801e",
   "metadata": {},
   "outputs": [],
   "source": [
    "# Adding call to Avoid Overfitting\n",
    "\n",
    "early_stop = EarlyStopping(monitor=\"val_accuracy\",\n",
    "                           min_delta=0.003,\n",
    "                           patience=6, \n",
    "                           verbose=1, \n",
    "                           mode='auto',\n",
    "                           restore_best_weights=True)\n",
    "\n",
    "lr = ReduceLROnPlateau(monitor=\"val_accuracy\",\n",
    "                      factor=0.2,\n",
    "                      patience=3,\n",
    "                      verbose=1,\n",
    "                      mode=\"auto\",\n",
    "                      min_delta=0.003,\n",
    "                      cooldown=1)\n",
    "\n",
    "callback = [early_stop,lr]"
   ]
  },
  {
   "cell_type": "code",
   "execution_count": 38,
   "id": "b87b26b3",
   "metadata": {},
   "outputs": [],
   "source": [
    "# Configuring the Learning Process\n",
    "model.compile(loss=\"binary_crossentropy\",\n",
    "              optimizer=\"adam\",\n",
    "              metrics=[\"accuracy\"])"
   ]
  },
  {
   "cell_type": "code",
   "execution_count": 39,
   "id": "573909fc",
   "metadata": {},
   "outputs": [
    {
     "name": "stdout",
     "output_type": "stream",
     "text": [
      "Epoch 1/30\n",
      "9/9 [==============================] - 57s 6s/step - loss: 0.6651 - accuracy: 0.6284 - val_loss: 0.5655 - val_accuracy: 0.7603 - lr: 0.0010\n",
      "Epoch 2/30\n",
      "9/9 [==============================] - 33s 4s/step - loss: 0.5816 - accuracy: 0.7454 - val_loss: 0.3454 - val_accuracy: 0.9339 - lr: 0.0010\n",
      "Epoch 3/30\n",
      "9/9 [==============================] - 34s 4s/step - loss: 0.4237 - accuracy: 0.7913 - val_loss: 0.1937 - val_accuracy: 0.9091 - lr: 0.0010\n",
      "Epoch 4/30\n",
      "9/9 [==============================] - 35s 4s/step - loss: 0.3437 - accuracy: 0.8509 - val_loss: 0.1041 - val_accuracy: 0.9504 - lr: 0.0010\n",
      "Epoch 5/30\n",
      "9/9 [==============================] - 32s 3s/step - loss: 0.3531 - accuracy: 0.8486 - val_loss: 0.0785 - val_accuracy: 0.9835 - lr: 0.0010\n",
      "Epoch 6/30\n",
      "9/9 [==============================] - 32s 4s/step - loss: 0.3093 - accuracy: 0.8578 - val_loss: 0.1054 - val_accuracy: 0.9669 - lr: 0.0010\n",
      "Epoch 7/30\n",
      "9/9 [==============================] - 30s 3s/step - loss: 0.3184 - accuracy: 0.8532 - val_loss: 0.1878 - val_accuracy: 0.9091 - lr: 0.0010\n",
      "Epoch 8/30\n",
      "9/9 [==============================] - ETA: 0s - loss: 0.3368 - accuracy: 0.8372\n",
      "Epoch 8: ReduceLROnPlateau reducing learning rate to 0.00020000000949949026.\n",
      "9/9 [==============================] - 33s 4s/step - loss: 0.3368 - accuracy: 0.8372 - val_loss: 0.1040 - val_accuracy: 0.9669 - lr: 0.0010\n",
      "Epoch 9/30\n",
      "9/9 [==============================] - 32s 4s/step - loss: 0.3003 - accuracy: 0.8991 - val_loss: 0.1041 - val_accuracy: 0.9587 - lr: 2.0000e-04\n",
      "Epoch 10/30\n",
      "9/9 [==============================] - 29s 3s/step - loss: 0.2758 - accuracy: 0.8876 - val_loss: 0.0796 - val_accuracy: 0.9835 - lr: 2.0000e-04\n",
      "Epoch 11/30\n",
      "9/9 [==============================] - ETA: 0s - loss: 0.2729 - accuracy: 0.8784Restoring model weights from the end of the best epoch: 5.\n",
      "\n",
      "Epoch 11: ReduceLROnPlateau reducing learning rate to 4.0000001899898055e-05.\n",
      "9/9 [==============================] - 32s 4s/step - loss: 0.2729 - accuracy: 0.8784 - val_loss: 0.0762 - val_accuracy: 0.9835 - lr: 2.0000e-04\n",
      "Epoch 11: early stopping\n"
     ]
    }
   ],
   "source": [
    "# Training The Model\n",
    "result = model.fit(train_data,\n",
    "                  epochs=30,\n",
    "                  callbacks=callback,\n",
    "                  validation_data=test_data)\n"
   ]
  },
  {
   "cell_type": "code",
   "execution_count": 41,
   "id": "0979105e",
   "metadata": {},
   "outputs": [
    {
     "data": {
      "image/png": "[encoded data removed]",
      "text/plain": [
       "<Figure size 432x288 with 1 Axes>"
      ]
     },
     "metadata": {
      "needs_background": "light"
     },
     "output_type": "display_data"
    },
    {
     "data": {
      "image/png": "[encoded data removed]",
      "text/plain": [
       "<Figure size 432x288 with 1 Axes>"
      ]
     },
     "metadata": {
      "needs_background": "light"
     },
     "output_type": "display_data"
    }
   ],
   "source": [
    "#plot the loss\n",
    "plt.plot(result.history['loss'], label='train loss')\n",
    "plt.plot(result.history['val_loss'], label='val loss')\n",
    "plt.legend()\n",
    "plt.show()\n",
    "\n",
    "# plot the accuracy\n",
    "plt.plot(result.history['accuracy'], label='train acc')\n",
    "plt.plot(result.history['val_accuracy'], label='val acc')\n",
    "plt.legend()\n",
    "plt.show()"
   ]
  },
  {
   "cell_type": "code",
   "execution_count": 42,
   "id": "ae8e24f0",
   "metadata": {},
   "outputs": [],
   "source": [
    "np.save('my_history.npy',result.history)"
   ]
  },
  {
   "cell_type": "code",
   "execution_count": 43,
   "id": "93ca8e63",
   "metadata": {},
   "outputs": [],
   "source": [
    "#Save the Model\n",
    "model.save('Forest_Fire.h5')"
   ]
  },
  {
   "cell_type": "code",
   "execution_count": 44,
   "id": "fecb61bb",
   "metadata": {},
   "outputs": [],
   "source": [
    "#Test Model\n",
    "saved_model = load_model('forest_Fire.h5')"
   ]
  },
  {
   "cell_type": "code",
   "execution_count": 12,
   "id": "1c8ba57d",
   "metadata": {},
   "outputs": [],
   "source": [
    "#Predict The Model\n",
    "from tensorflow.keras.models import load_model\n",
    "from tensorflow.keras.preprocessing import image\n",
    "import numpy as np\n",
    "import cv2\n"
   ]
  },
  {
   "cell_type": "code",
   "execution_count": 23,
   "id": "98e00889",
   "metadata": {},
   "outputs": [],
   "source": [
    "model = load_model(\"forest_fire.h5\")"
   ]
  },
  {
   "cell_type": "code",
   "execution_count": 27,
   "id": "1ee164db",
   "metadata": {},
   "outputs": [],
   "source": [
    "\n",
    "img=image.load_img(r'Dataset\\Dataset\\test_set\\forest\\0.48007200_1530881924_final_forest.jpg')\n",
    "x=image.img_to_array(img)\n",
    "res = cv2.resize(x, dsize=(64, 64), interpolation=cv2.INTER_CUBIC)\n",
    "x = np.expand_dims(res, axis=0)"
   ]
  },
  {
   "cell_type": "code",
   "execution_count": 28,
   "id": "ee275934",
   "metadata": {},
   "outputs": [
    {
     "data": {
      "text/plain": [
       "0"
      ]
     },
     "execution_count": 28,
     "metadata": {},
     "output_type": "execute_result"
    }
   ],
   "source": [
    "pred = model.predict(x)\n",
    "pred = int(pred[0][0])\n",
    "pred"
   ]
  },
  {
   "cell_type": "code",
   "execution_count": 31,
   "id": "64221dae",
   "metadata": {},
   "outputs": [],
   "source": [
    "img=image.load_img(r'Dataset\\Dataset\\test_set\\with fire\\19464620_401.jpg')\n",
    "x=image.img_to_array(img)\n",
    "res = cv2.resize(x, dsize=(64, 64), interpolation=cv2.INTER_CUBIC)\n",
    "x = np.expand_dims(res, axis=0)"
   ]
  },
  {
   "cell_type": "code",
   "execution_count": 32,
   "id": "573f27cb",
   "metadata": {},
   "outputs": [
    {
     "data": {
      "text/plain": [
       "1"
      ]
     },
     "execution_count": 32,
     "metadata": {},
     "output_type": "execute_result"
    }
   ],
   "source": [
    "pred = model.predict(x)\n",
    "pred = int(pred[0][0])\n",
    "pred"
   ]
  },
  {
   "cell_type": "code",
   "execution_count": null,
   "id": "b9c33e41",
   "metadata": {},
   "outputs": [],
   "source": []
  }
 ],
 "metadata": {
  "kernelspec": {
   "display_name": "Python 3 (ipykernel)",
   "language": "python",
   "name": "python3"
  },
  "language_info": {
   "codemirror_mode": {
    "name": "ipython",
    "version": 3
   },
   "file_extension": ".py",
   "mimetype": "text/x-python",
   "name": "python",
   "nbconvert_exporter": "python",
   "pygments_lexer": "ipython3",
   "version": "3.10.4"
  }
 },
 "nbformat": 4,
 "nbformat_minor": 5
}
