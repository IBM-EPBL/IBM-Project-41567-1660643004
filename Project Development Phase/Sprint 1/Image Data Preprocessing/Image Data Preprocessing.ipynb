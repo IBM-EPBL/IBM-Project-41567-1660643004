{
 "cells": [
  {
   "cell_type": "markdown",
   "id": "41852a63",
   "metadata": {},
   "source": [
    "# Image Data PreProcessing"
   ]
  },
  {
   "cell_type": "markdown",
   "id": "abb16706",
   "metadata": {},
   "source": [
    "# # Importing necessary Libreries"
   ]
  },
  {
   "cell_type": "code",
   "execution_count": 13,
   "id": "a3176665",
   "metadata": {},
   "outputs": [],
   "source": [
    "import numpy as np\n",
    "import pandas as pd\n",
    "import matplotlib.pyplot as plt\n",
    "from tensorflow.keras.preprocessing.image import ImageDataGenerator\n",
    "\n"
   ]
  },
  {
   "cell_type": "code",
   "execution_count": 14,
   "id": "dd8418db",
   "metadata": {},
   "outputs": [],
   "source": [
    "# Data Augumentation\n",
    "#Define The Parameters /Arguments For ImageDataGenerator Class\n"
   ]
  },
  {
   "cell_type": "code",
   "execution_count": 15,
   "id": "ce70c3c9",
   "metadata": {},
   "outputs": [],
   "source": [
    "# Data Generator\n",
    "\n",
    "train_data_generator = ImageDataGenerator(rescale=1./255,\n",
    "                                          rotation_range=90,\n",
    "                                          width_shift_range=0.4,\n",
    "                                          fill_mode='reflect',\n",
    "                                          vertical_flip=True,\n",
    "                                          channel_shift_range=150.0,\n",
    "                                          zoom_range=[0.5, 1.5],\n",
    "                                          shear_range=45.0,\n",
    "                                          brightness_range=(0.2, 0.8))\n",
    "\n",
    "test_data_generator = ImageDataGenerator(rescale=1./255)"
   ]
  },
  {
   "cell_type": "code",
   "execution_count": 16,
   "id": "b3523dfc",
   "metadata": {},
   "outputs": [],
   "source": [
    "#Applying ImageDataGenerator Functionality To Trainset "
   ]
  },
  {
   "cell_type": "code",
   "execution_count": 12,
   "id": "7d42ab0d",
   "metadata": {},
   "outputs": [
    {
     "name": "stdout",
     "output_type": "stream",
     "text": [
      "Found 436 images belonging to 2 classes.\n",
      "Found 121 images belonging to 2 classes.\n"
     ]
    }
   ],
   "source": [
    "train_data = train_data_generator.flow_from_directory(r\"./Dataset/Dataset/train_set\",\n",
    "                                                      target_size=(64,64),\n",
    "                                                      batch_size=50,\n",
    "                                                      class_mode='binary',\n",
    "                                                      shuffle=True,\n",
    "                                                      color_mode='rgb')\n",
    "#Applying ImageDataGenerator Functionality To  Testset\n",
    "\n",
    "test_data = test_data_generator.flow_from_directory(r\"./Dataset/Dataset/test_set\",\n",
    "                                                      target_size=(64,64),\n",
    "                                                      batch_size=50,\n",
    "                                                      class_mode='binary',\n",
    "                                                      shuffle=True,\n",
    "                                                      color_mode='rgb')                                                  "
   ]
  },
  {
   "cell_type": "code",
   "execution_count": null,
   "id": "9561e438",
   "metadata": {},
   "outputs": [],
   "source": []
  }
 ],
 "metadata": {
  "kernelspec": {
   "display_name": "Python 3 (ipykernel)",
   "language": "python",
   "name": "python3"
  },
  "language_info": {
   "codemirror_mode": {
    "name": "ipython",
    "version": 3
   },
   "file_extension": ".py",
   "mimetype": "text/x-python",
   "name": "python",
   "nbconvert_exporter": "python",
   "pygments_lexer": "ipython3",
   "version": "3.10.4"
  }
 },
 "nbformat": 4,
 "nbformat_minor": 5
}
