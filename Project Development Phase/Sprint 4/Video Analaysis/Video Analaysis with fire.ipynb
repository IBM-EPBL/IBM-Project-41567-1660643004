{
 "cells": [
  {
   "cell_type": "code",
   "execution_count": 1,
   "id": "05d8889c",
   "metadata": {},
   "outputs": [],
   "source": [
    "import  cv2\n",
    "import numpy as np\n",
    "from keras.preprocessing import image\n",
    "from keras.models import load_model\n",
    "from twilio.rest import Client\n",
    "from playsound import playsound"
   ]
  },
  {
   "cell_type": "code",
   "execution_count": null,
   "id": "abd16791",
   "metadata": {},
   "outputs": [
    {
     "name": "stdout",
     "output_type": "stream",
     "text": [
      "Forest fire\n",
      "SM4c3ed97a65a57ae32b897612f200074d\n",
      "Fire detected\n",
      "SMS Sent!\n",
      "Forest fire\n",
      "SM5e30af484b03bf86b962f2b65ac66b24\n",
      "Fire detected\n",
      "SMS Sent!\n",
      "Forest fire\n",
      "SMcd0d8c4a8f6d82c48b852d658ae66af1\n",
      "Fire detected\n",
      "SMS Sent!\n"
     ]
    }
   ],
   "source": [
    "import cv2 \n",
    "import numpy as np\n",
    "\n",
    "from matplotlib import pyplot as plt\n",
    "\n",
    "from tensorflow.keras.preprocessing import image\n",
    "from keras.models import load_model\n",
    "# Create a VideoCapture object and read from input file\n",
    "# If the input is the camera, pass 0 instead of the video file name\n",
    "cap = cv2.VideoCapture('fire.mp4')\n",
    " \n",
    "# Check if camera opened successfully\n",
    "if (cap.isOpened()== False): \n",
    "  print(\"Error opening video stream or file\")\n",
    " \n",
    "# Read until video is completed\n",
    "while(cap.isOpened()):\n",
    "  # Capture frame-by-frame\n",
    "  ret, frame = cap.read()\n",
    "  if ret == True:\n",
    "    x=image.img_to_array(frame)\n",
    "    res=cv2.resize(x,dsize=(64,64),interpolation=cv2.INTER_CUBIC)\n",
    "    #expand the image shape\n",
    "    x=np.expand_dims(res,axis=0)\n",
    "    model=load_model(\"Forest_Fire.h5\")\n",
    "    cv2.imshow('Forest Fire Detection',frame)\n",
    "    pred=model.predict(x)\n",
    "    pred = int(pred[0][0])\n",
    "    pred\n",
    "    int(pred)\n",
    "    if pred==0:\n",
    "      print('Forest fire')\n",
    "      \n",
    "      account_sid='ACf68255cbe82460c9266beb672d744602'\n",
    "      auth_token='c7e7819f9ee7412b408abe7b09083cae'\n",
    "      client=Client(account_sid,auth_token)\n",
    "      message=client.messages \\\n",
    "     .create(\n",
    "      body='forest fire is detected,stay alert',\n",
    "      #use twilio free number\n",
    "      from_='+18176705182',\n",
    "      #to number\n",
    "      to='+916381614097')\n",
    "      print(message.sid)\n",
    "      print(\"Fire detected\")\n",
    "      print(\"SMS Sent!\")\n",
    "      playsound(r'Alaram.mp3')\n",
    "       \n",
    "    else:\n",
    "      print(\"no danger\")\n",
    "      break\n",
    "# When everything done, release the video capture object\n",
    "cap.release()\n",
    " \n",
    "# Closes all the frames\n",
    "cv2.destroyAllWindows()"
   ]
  },
  {
   "cell_type": "code",
   "execution_count": null,
   "id": "b4effe03",
   "metadata": {},
   "outputs": [],
   "source": []
  }
 ],
 "metadata": {
  "kernelspec": {
   "display_name": "Python 3 (ipykernel)",
   "language": "python",
   "name": "python3"
  },
  "language_info": {
   "codemirror_mode": {
    "name": "ipython",
    "version": 3
   },
   "file_extension": ".py",
   "mimetype": "text/x-python",
   "name": "python",
   "nbconvert_exporter": "python",
   "pygments_lexer": "ipython3",
   "version": "3.10.4"
  }
 },
 "nbformat": 4,
 "nbformat_minor": 5
}
