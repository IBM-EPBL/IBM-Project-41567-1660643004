{
  "cells": [
    {
      "cell_type": "markdown",
      "metadata": {
        "id": "8mZ4O6qZecNz"
      },
      "source": []
    },
    {
      "cell_type": "markdown",
      "metadata": {
        "id": "T8G4qxhWs2Gg"
      },
      "source": [
        "# ***Unzipping the data***"
      ]
    },
    {
      "cell_type": "code",
      "execution_count": null,
      "metadata": {
        "colab": {
          "base_uri": "https://localhost:8080/"
        },
        "id": "Yjeuw6_ItA6V",
        "outputId": "181709e7-7e34-4407-93ee-680a451ab630"
      },
      "outputs": [
        {
          "output_type": "stream",
          "name": "stdout",
          "text": [
            "unzip:  cannot find or open /content/Flowers-Dataset.zip, /content/Flowers-Dataset.zip.zip or /content/Flowers-Dataset.zip.ZIP.\n"
          ]
        }
      ],
      "source": [
        "!unzip '/content/Flowers-Dataset.zip'"
      ]
    },
    {
      "cell_type": "markdown",
      "metadata": {
        "id": "NpySN6gcuFYc"
      },
      "source": [
        "# ***Data Augmentation***"
      ]
    },
    {
      "cell_type": "code",
      "execution_count": null,
      "metadata": {
        "id": "i8XyvcfNuSpZ"
      },
      "outputs": [],
      "source": [
        "from tensorflow.keras.preprocessing.image import ImageDataGenerator # Import necessary lib.\n"
      ]
    },
    {
      "cell_type": "code",
      "execution_count": null,
      "metadata": {
        "id": "q6o9jtnTujjM"
      },
      "outputs": [],
      "source": [
        "# Data augmentation on training variable\n",
        "\n",
        "train_datagen = ImageDataGenerator(rescale=1./255,\n",
        "                                   zoom_range=0.2,\n",
        "                                   horizontal_flip=True)"
      ]
    },
    {
      "cell_type": "code",
      "execution_count": null,
      "metadata": {
        "id": "HSH-HNmvuwmP"
      },
      "outputs": [],
      "source": [
        "# Data augmentation on testing variable\n",
        "\n",
        "test_datagen = ImageDataGenerator(rescale=1./255)"
      ]
    },
    {
      "cell_type": "code",
      "execution_count": null,
      "metadata": {
        "colab": {
          "base_uri": "https://localhost:8080/"
        },
        "id": "Zu25Z-Hsu2ci",
        "outputId": "6ccfaf18-63a6-4438-a4d4-1a02b9551cf4"
      },
      "outputs": [
        {
          "output_type": "stream",
          "name": "stdout",
          "text": [
            "Found 4317 images belonging to 5 classes.\n",
            "Found 4317 images belonging to 5 classes.\n"
          ]
        }
      ],
      "source": [
        "# Data augmentation on training data\n",
        "\n",
        "xtrain = train_datagen.flow_from_directory('/content/flowers',\n",
        "                                           target_size=(64,64),\n",
        "                                           class_mode='categorical',\n",
        "                                           batch_size=100)\n",
        "\n",
        "\n",
        "\n",
        "xtest = test_datagen.flow_from_directory('/content/flowers',\n",
        "                                         target_size=(64,64),\n",
        "                                         class_mode='categorical',\n",
        "                                         batch_size=100)"
      ]
    },
    {
      "cell_type": "markdown",
      "metadata": {
        "id": "HjMC2seuvlBq"
      },
      "source": [
        "# ***CNN Model Creation***"
      ]
    },
    {
      "cell_type": "code",
      "execution_count": null,
      "metadata": {
        "id": "Y8-IwqNYvy6o"
      },
      "outputs": [],
      "source": [
        "# Importing req. lib.\n",
        "\n",
        "from tensorflow.keras.models import Sequential\n",
        "from tensorflow.keras.layers import Convolution2D, MaxPooling2D, Flatten, Dense"
      ]
    },
    {
      "cell_type": "code",
      "execution_count": null,
      "metadata": {
        "id": "d8jb5Y9Av8YX"
      },
      "outputs": [],
      "source": [
        " # Build a CNN block\n",
        "\n",
        "model = Sequential() # Initializing sequential model\n",
        "model.add(Convolution2D(32,(3,3),activation='relu',input_shape=(64,64,3))) # convolution layer\n",
        "model.add(MaxPooling2D(pool_size=(2, 2))) # Max pooling layer\n",
        "model.add(Flatten()) # Flatten layer\n",
        "model.add(Dense(300,activation='relu')) # Hidden layer 1\n",
        "model.add(Dense(150,activation='relu')) # Hidden layer 2\n",
        "model.add(Dense(5,activation='softmax')) # Output layer#"
      ]
    },
    {
      "cell_type": "markdown",
      "source": [
        "# ***Compiling the model***"
      ],
      "metadata": {
        "id": "DNO8dokHX82i"
      }
    },
    {
      "cell_type": "code",
      "execution_count": null,
      "metadata": {
        "id": "yNUf2Cj6wNW3"
      },
      "outputs": [],
      "source": [
        "# Compiling the model\n",
        "\n",
        "model.compile(optimizer='adam',loss='categorical_crossentropy',metrics=['accuracy'])"
      ]
    },
    {
      "cell_type": "markdown",
      "source": [
        "# ***Fit The Model***"
      ],
      "metadata": {
        "id": "80rOu55JYFJM"
      }
    },
    {
      "cell_type": "code",
      "source": [
        "from keras.callbacks import EarlyStopping, ReduceLROnPlateau"
      ],
      "metadata": {
        "id": "B57bo7B2ojNN"
      },
      "execution_count": null,
      "outputs": []
    },
    {
      "cell_type": "code",
      "source": [
        "early_stopping = EarlyStopping(monitor='val_accuracy',\n",
        "                        patience=5)\n",
        "reduce_lr = ReduceLROnPlateau(monitor='val_accuracy',\n",
        "                        patience=5,\n",
        "                        factor=0.5,min_lr=0.00001)\n",
        "\n",
        "callback = [reduce_lr,early_stopping]"
      ],
      "metadata": {
        "id": "AEAQDbw5oi-3"
      },
      "execution_count": null,
      "outputs": []
    },
    {
      "cell_type": "code",
      "execution_count": null,
      "metadata": {
        "colab": {
          "base_uri": "https://localhost:8080/"
        },
        "id": "W2jBaps1xPsK",
        "outputId": "adf95fc0-c217-4b62-fc49-ea5a3cf5df71"
      },
      "outputs": [
        {
          "output_type": "stream",
          "name": "stderr",
          "text": [
            "/usr/local/lib/python3.7/dist-packages/ipykernel_launcher.py:8: UserWarning: `Model.fit_generator` is deprecated and will be removed in a future version. Please use `Model.fit`, which supports generators.\n",
            "  \n"
          ]
        },
        {
          "output_type": "stream",
          "name": "stdout",
          "text": [
            "Epoch 1/100\n",
            "44/44 [==============================] - 46s 1s/step - loss: 1.8332 - accuracy: 0.3433 - val_loss: 1.2083 - val_accuracy: 0.4920 - lr: 0.0010\n",
            "Epoch 2/100\n",
            "44/44 [==============================] - 44s 1s/step - loss: 1.1639 - accuracy: 0.5140 - val_loss: 1.1734 - val_accuracy: 0.5374 - lr: 0.0010\n",
            "Epoch 3/100\n",
            "44/44 [==============================] - 46s 1s/step - loss: 1.0839 - accuracy: 0.5650 - val_loss: 0.9902 - val_accuracy: 0.6220 - lr: 0.0010\n",
            "Epoch 4/100\n",
            "44/44 [==============================] - 44s 1s/step - loss: 0.9972 - accuracy: 0.6229 - val_loss: 1.1430 - val_accuracy: 0.5316 - lr: 0.0010\n",
            "Epoch 5/100\n",
            "44/44 [==============================] - 44s 1s/step - loss: 0.9589 - accuracy: 0.6331 - val_loss: 1.0079 - val_accuracy: 0.6217 - lr: 0.0010\n",
            "Epoch 6/100\n",
            "44/44 [==============================] - 46s 1s/step - loss: 0.8961 - accuracy: 0.6574 - val_loss: 0.8191 - val_accuracy: 0.6917 - lr: 0.0010\n",
            "Epoch 7/100\n",
            "44/44 [==============================] - 46s 1s/step - loss: 0.8802 - accuracy: 0.6688 - val_loss: 0.7923 - val_accuracy: 0.7102 - lr: 0.0010\n",
            "Epoch 8/100\n",
            "44/44 [==============================] - 44s 1s/step - loss: 0.8121 - accuracy: 0.6880 - val_loss: 0.7668 - val_accuracy: 0.7160 - lr: 0.0010\n",
            "Epoch 9/100\n",
            "44/44 [==============================] - 45s 1s/step - loss: 0.7726 - accuracy: 0.7074 - val_loss: 0.7821 - val_accuracy: 0.7130 - lr: 0.0010\n",
            "Epoch 10/100\n",
            "44/44 [==============================] - 46s 1s/step - loss: 0.7751 - accuracy: 0.7058 - val_loss: 0.8353 - val_accuracy: 0.7026 - lr: 0.0010\n",
            "Epoch 11/100\n",
            "44/44 [==============================] - 44s 1s/step - loss: 0.7253 - accuracy: 0.7241 - val_loss: 0.7078 - val_accuracy: 0.7473 - lr: 0.0010\n",
            "Epoch 12/100\n",
            "44/44 [==============================] - 45s 1s/step - loss: 0.6879 - accuracy: 0.7475 - val_loss: 0.6531 - val_accuracy: 0.7556 - lr: 0.0010\n",
            "Epoch 13/100\n",
            "44/44 [==============================] - 45s 1s/step - loss: 0.6957 - accuracy: 0.7392 - val_loss: 0.6171 - val_accuracy: 0.7700 - lr: 0.0010\n",
            "Epoch 14/100\n",
            "44/44 [==============================] - 44s 1s/step - loss: 0.6813 - accuracy: 0.7457 - val_loss: 0.5893 - val_accuracy: 0.7792 - lr: 0.0010\n",
            "Epoch 15/100\n",
            "44/44 [==============================] - 45s 1s/step - loss: 0.6403 - accuracy: 0.7582 - val_loss: 0.5694 - val_accuracy: 0.7915 - lr: 0.0010\n",
            "Epoch 16/100\n",
            "44/44 [==============================] - 45s 1s/step - loss: 0.6283 - accuracy: 0.7607 - val_loss: 0.5750 - val_accuracy: 0.7957 - lr: 0.0010\n",
            "Epoch 17/100\n",
            "44/44 [==============================] - 44s 1s/step - loss: 0.6053 - accuracy: 0.7739 - val_loss: 0.6091 - val_accuracy: 0.7707 - lr: 0.0010\n",
            "Epoch 18/100\n",
            "44/44 [==============================] - 45s 1s/step - loss: 0.5883 - accuracy: 0.7774 - val_loss: 0.5886 - val_accuracy: 0.7899 - lr: 0.0010\n",
            "Epoch 19/100\n",
            "44/44 [==============================] - 46s 1s/step - loss: 0.5642 - accuracy: 0.7924 - val_loss: 0.6080 - val_accuracy: 0.7816 - lr: 0.0010\n",
            "Epoch 20/100\n",
            "44/44 [==============================] - 44s 1s/step - loss: 0.5659 - accuracy: 0.7941 - val_loss: 0.5321 - val_accuracy: 0.8050 - lr: 0.0010\n",
            "Epoch 21/100\n",
            "44/44 [==============================] - 44s 1s/step - loss: 0.5088 - accuracy: 0.8151 - val_loss: 0.4650 - val_accuracy: 0.8277 - lr: 0.0010\n",
            "Epoch 22/100\n",
            "44/44 [==============================] - 45s 1s/step - loss: 0.5435 - accuracy: 0.7996 - val_loss: 0.5500 - val_accuracy: 0.8033 - lr: 0.0010\n",
            "Epoch 23/100\n",
            "44/44 [==============================] - 44s 1s/step - loss: 0.4878 - accuracy: 0.8219 - val_loss: 0.5577 - val_accuracy: 0.7992 - lr: 0.0010\n",
            "Epoch 24/100\n",
            "44/44 [==============================] - 44s 1s/step - loss: 0.4627 - accuracy: 0.8339 - val_loss: 0.3762 - val_accuracy: 0.8684 - lr: 0.0010\n",
            "Epoch 25/100\n",
            "44/44 [==============================] - 44s 1s/step - loss: 0.4362 - accuracy: 0.8453 - val_loss: 0.4182 - val_accuracy: 0.8534 - lr: 0.0010\n",
            "Epoch 26/100\n",
            "44/44 [==============================] - 45s 1s/step - loss: 0.4231 - accuracy: 0.8464 - val_loss: 0.3928 - val_accuracy: 0.8626 - lr: 0.0010\n",
            "Epoch 27/100\n",
            "44/44 [==============================] - 44s 1s/step - loss: 0.4101 - accuracy: 0.8517 - val_loss: 0.3149 - val_accuracy: 0.8860 - lr: 0.0010\n",
            "Epoch 28/100\n",
            "44/44 [==============================] - 45s 1s/step - loss: 0.4002 - accuracy: 0.8552 - val_loss: 0.3248 - val_accuracy: 0.8867 - lr: 0.0010\n",
            "Epoch 29/100\n",
            "44/44 [==============================] - 44s 1s/step - loss: 0.3695 - accuracy: 0.8689 - val_loss: 0.3179 - val_accuracy: 0.8909 - lr: 0.0010\n",
            "Epoch 30/100\n",
            "44/44 [==============================] - 44s 1s/step - loss: 0.3848 - accuracy: 0.8548 - val_loss: 0.3564 - val_accuracy: 0.8719 - lr: 0.0010\n",
            "Epoch 31/100\n",
            "44/44 [==============================] - 44s 1s/step - loss: 0.3702 - accuracy: 0.8682 - val_loss: 0.3327 - val_accuracy: 0.8821 - lr: 0.0010\n",
            "Epoch 32/100\n",
            "44/44 [==============================] - 44s 1s/step - loss: 0.3199 - accuracy: 0.8902 - val_loss: 0.2337 - val_accuracy: 0.9178 - lr: 0.0010\n",
            "Epoch 33/100\n",
            "44/44 [==============================] - 44s 1s/step - loss: 0.3136 - accuracy: 0.8886 - val_loss: 0.2634 - val_accuracy: 0.9053 - lr: 0.0010\n",
            "Epoch 34/100\n",
            "44/44 [==============================] - 44s 1s/step - loss: 0.3065 - accuracy: 0.8921 - val_loss: 0.2982 - val_accuracy: 0.8927 - lr: 0.0010\n",
            "Epoch 35/100\n",
            "44/44 [==============================] - 46s 1s/step - loss: 0.3108 - accuracy: 0.8883 - val_loss: 0.3377 - val_accuracy: 0.8763 - lr: 0.0010\n",
            "Epoch 36/100\n",
            "44/44 [==============================] - 44s 1s/step - loss: 0.2987 - accuracy: 0.8983 - val_loss: 0.2052 - val_accuracy: 0.9284 - lr: 0.0010\n",
            "Epoch 37/100\n",
            "44/44 [==============================] - 44s 1s/step - loss: 0.2905 - accuracy: 0.8995 - val_loss: 0.3018 - val_accuracy: 0.8923 - lr: 0.0010\n",
            "Epoch 38/100\n",
            "44/44 [==============================] - 47s 1s/step - loss: 0.2834 - accuracy: 0.8990 - val_loss: 0.2537 - val_accuracy: 0.9043 - lr: 0.0010\n",
            "Epoch 39/100\n",
            "44/44 [==============================] - 44s 1s/step - loss: 0.2581 - accuracy: 0.9138 - val_loss: 0.1847 - val_accuracy: 0.9368 - lr: 0.0010\n",
            "Epoch 40/100\n",
            "44/44 [==============================] - 44s 1s/step - loss: 0.2656 - accuracy: 0.9016 - val_loss: 0.1979 - val_accuracy: 0.9284 - lr: 0.0010\n",
            "Epoch 41/100\n",
            "44/44 [==============================] - 51s 1s/step - loss: 0.2157 - accuracy: 0.9261 - val_loss: 0.1707 - val_accuracy: 0.9416 - lr: 0.0010\n",
            "Epoch 42/100\n",
            "44/44 [==============================] - 46s 1s/step - loss: 0.2093 - accuracy: 0.9280 - val_loss: 0.1679 - val_accuracy: 0.9398 - lr: 0.0010\n",
            "Epoch 43/100\n",
            "44/44 [==============================] - 44s 1s/step - loss: 0.2290 - accuracy: 0.9199 - val_loss: 0.1493 - val_accuracy: 0.9476 - lr: 0.0010\n",
            "Epoch 44/100\n",
            "44/44 [==============================] - 46s 1s/step - loss: 0.2073 - accuracy: 0.9293 - val_loss: 0.1555 - val_accuracy: 0.9437 - lr: 0.0010\n",
            "Epoch 45/100\n",
            "44/44 [==============================] - 44s 1s/step - loss: 0.1800 - accuracy: 0.9375 - val_loss: 0.2383 - val_accuracy: 0.9150 - lr: 0.0010\n",
            "Epoch 46/100\n",
            "44/44 [==============================] - 44s 1s/step - loss: 0.2076 - accuracy: 0.9284 - val_loss: 0.1591 - val_accuracy: 0.9428 - lr: 0.0010\n",
            "Epoch 47/100\n",
            "44/44 [==============================] - 46s 1s/step - loss: 0.1870 - accuracy: 0.9375 - val_loss: 0.2022 - val_accuracy: 0.9321 - lr: 0.0010\n",
            "Epoch 48/100\n",
            "44/44 [==============================] - 45s 1s/step - loss: 0.1805 - accuracy: 0.9372 - val_loss: 0.0893 - val_accuracy: 0.9722 - lr: 0.0010\n",
            "Epoch 49/100\n",
            "44/44 [==============================] - 45s 1s/step - loss: 0.1831 - accuracy: 0.9393 - val_loss: 0.1183 - val_accuracy: 0.9578 - lr: 0.0010\n",
            "Epoch 50/100\n",
            "44/44 [==============================] - 44s 1s/step - loss: 0.1546 - accuracy: 0.9453 - val_loss: 0.1409 - val_accuracy: 0.9541 - lr: 0.0010\n",
            "Epoch 51/100\n",
            "44/44 [==============================] - 46s 1s/step - loss: 0.1562 - accuracy: 0.9456 - val_loss: 0.0995 - val_accuracy: 0.9659 - lr: 0.0010\n",
            "Epoch 52/100\n",
            "44/44 [==============================] - 44s 1s/step - loss: 0.1211 - accuracy: 0.9632 - val_loss: 0.1521 - val_accuracy: 0.9472 - lr: 0.0010\n",
            "Epoch 53/100\n",
            "44/44 [==============================] - 44s 1s/step - loss: 0.1606 - accuracy: 0.9451 - val_loss: 0.1220 - val_accuracy: 0.9583 - lr: 0.0010\n"
          ]
        },
        {
          "output_type": "execute_result",
          "data": {
            "text/plain": [
              "<keras.callbacks.History at 0x7efc7e970150>"
            ]
          },
          "metadata": {},
          "execution_count": 11
        }
      ],
      "source": [
        "#Fit The Model\n",
        "\n",
        "model.fit_generator(xtrain,\n",
        "                    steps_per_epoch=len(xtrain),\n",
        "                    epochs=100,\n",
        "                    callbacks=callback,\n",
        "                    validation_data=xtest,\n",
        "                    validation_steps=len(xtest))"
      ]
    },
    {
      "cell_type": "markdown",
      "source": [
        "# ***Saving the Model***"
      ],
      "metadata": {
        "id": "FMKsfqZO0y-A"
      }
    },
    {
      "cell_type": "code",
      "source": [
        "model.save('Flowers.h5')\n"
      ],
      "metadata": {
        "id": "03goRedbzrhZ"
      },
      "execution_count": null,
      "outputs": []
    },
    {
      "cell_type": "markdown",
      "source": [
        "# ***Testing the Model***"
      ],
      "metadata": {
        "id": "55TDorTE1CCI"
      }
    },
    {
      "cell_type": "code",
      "source": [
        "from tensorflow.keras.preprocessing import image\n",
        "import numpy as np\n",
        "\n",
        "#Testing\n",
        "img = image.load_img('/content/flowers/rose/5349865018_99cd7f985a_n.jpg',target_size=(64,64)) # Reading image\n",
        "x = image.img_to_array(img) # Converting image into array\n",
        "x = np.expand_dims(x,axis=0) # expanding Dimensions\n",
        "pred = np.argmax(model.predict(x)) # Predicting the higher probablity index\n",
        "op = ['daisy','dandelion','rose','sunflower','tulip'] # Creating list\n",
        "op[pred] # List indexing with output\n"
      ],
      "metadata": {
        "colab": {
          "base_uri": "https://localhost:8080/",
          "height": 35
        },
        "id": "6x5KrFc01OVH",
        "outputId": "fa62776b-8718-48b4-b030-6aac394a92f6"
      },
      "execution_count": null,
      "outputs": [
        {
          "output_type": "execute_result",
          "data": {
            "text/plain": [
              "'rose'"
            ],
            "application/vnd.google.colaboratory.intrinsic+json": {
              "type": "string"
            }
          },
          "metadata": {},
          "execution_count": 13
        }
      ]
    },
    {
      "cell_type": "code",
      "source": [
        "img"
      ],
      "metadata": {
        "colab": {
          "base_uri": "https://localhost:8080/",
          "height": 81
        },
        "id": "OqLIPSsJ2mJ4",
        "outputId": "9af6fbe7-33c8-4b00-f83c-21954e034f4a"
      },
      "execution_count": null,
      "outputs": [
        {
          "output_type": "execute_result",
          "data": {
            "text/plain": [
              "<PIL.Image.Image image mode=RGB size=64x64 at 0x7EFC774CCE90>"
            ],
            "image/png": "[encoded data removed]"
          },
          "metadata": {},
          "execution_count": 14
        }
      ]
    },
    {
      "cell_type": "code",
      "source": [
        "#Testing 2\n",
        "img = image.load_img('/content/flowers/dandelion/34351602790_37234e2dae_n.jpg',target_size=(64,64)) # Reading image\n",
        "x = image.img_to_array(img) # Converting image into array\n",
        "x = np.expand_dims(x,axis=0) # expanding Dimensions\n",
        "pred = np.argmax(model.predict(x)) # Predicting the higher probablity index\n",
        "op = ['daisy','dandelion','rose','sunflower','tulip'] # Creating list\n",
        "op[pred] # List indexing with output"
      ],
      "metadata": {
        "colab": {
          "base_uri": "https://localhost:8080/",
          "height": 35
        },
        "id": "7cJTxGJ-3D4y",
        "outputId": "6402b94e-d187-41bd-8743-c280df875db0"
      },
      "execution_count": null,
      "outputs": [
        {
          "output_type": "execute_result",
          "data": {
            "text/plain": [
              "'sunflower'"
            ],
            "application/vnd.google.colaboratory.intrinsic+json": {
              "type": "string"
            }
          },
          "metadata": {},
          "execution_count": 15
        }
      ]
    },
    {
      "cell_type": "code",
      "source": [
        "img"
      ],
      "metadata": {
        "colab": {
          "base_uri": "https://localhost:8080/",
          "height": 81
        },
        "id": "bPfzNM0O3dYE",
        "outputId": "b74cb112-51d3-4681-b0da-259400490189"
      },
      "execution_count": null,
      "outputs": [
        {
          "output_type": "execute_result",
          "data": {
            "text/plain": [
              "<PIL.Image.Image image mode=RGB size=64x64 at 0x7EFC7847EB90>"
            ],
            "image/png": "[encoded data removed]"
          },
          "metadata": {},
          "execution_count": 16
        }
      ]
    },
    {
      "cell_type": "code",
      "source": [
        "#Testing 3\n",
        "img = image.load_img('/content/flowers/tulip/13974542496_e4b5d1c913_n.jpg',target_size=(64,64)) # Reading image\n",
        "x = image.img_to_array(img) # Converting image into array\n",
        "x = np.expand_dims(x,axis=0) # expanding Dimensions\n",
        "pred = np.argmax(model.predict(x)) # Predicting the higher probablity index\n",
        "op = ['daisy','dandelion','rose','sunflower','tulip'] # Creating list\n",
        "op[pred] # List indexing with output\n"
      ],
      "metadata": {
        "colab": {
          "base_uri": "https://localhost:8080/",
          "height": 35
        },
        "id": "gcXbsYTN32Po",
        "outputId": "419b68f8-0730-480a-fc4e-6a314fce3676"
      },
      "execution_count": null,
      "outputs": [
        {
          "output_type": "execute_result",
          "data": {
            "text/plain": [
              "'sunflower'"
            ],
            "application/vnd.google.colaboratory.intrinsic+json": {
              "type": "string"
            }
          },
          "metadata": {},
          "execution_count": 17
        }
      ]
    },
    {
      "cell_type": "code",
      "source": [
        "#Testing Google Image\n",
        "img = image.load_img('/content/marguerite-5959944__340.webp',target_size=(64,64)) # Reading image\n",
        "x = image.img_to_array(img) # Converting image into array\n",
        "x = np.expand_dims(x,axis=0) # expanding Dimensions\n",
        "pred = np.argmax(model.predict(x)) # Predicting the higher probablity index\n",
        "op = ['daisy','dandelion','rose','sunflower','tulip'] # Creating list\n",
        "op[pred] # List indexing with output\n",
        "\n",
        "\n"
      ],
      "metadata": {
        "colab": {
          "base_uri": "https://localhost:8080/",
          "height": 35
        },
        "id": "GJuQd1fU49r2",
        "outputId": "8713d20b-b3e8-41d2-8787-4ad4a6c9d81d"
      },
      "execution_count": null,
      "outputs": [
        {
          "output_type": "execute_result",
          "data": {
            "text/plain": [
              "'daisy'"
            ],
            "application/vnd.google.colaboratory.intrinsic+json": {
              "type": "string"
            }
          },
          "metadata": {},
          "execution_count": 18
        }
      ]
    },
    {
      "cell_type": "code",
      "source": [
        "img"
      ],
      "metadata": {
        "colab": {
          "base_uri": "https://localhost:8080/",
          "height": 81
        },
        "id": "FqWvxe_i5xjH",
        "outputId": "5c0a228a-9029-4d4b-ceb7-a7fefb2d2a5c"
      },
      "execution_count": null,
      "outputs": [
        {
          "output_type": "execute_result",
          "data": {
            "text/plain": [
              "<PIL.Image.Image image mode=RGB size=64x64 at 0x7EFC7847F710>"
            ],
            "image/png": "[encoded data removed]"
          },
          "metadata": {},
          "execution_count": 19
        }
      ]
    }
  ],
  "metadata": {
    "colab": {
      "provenance": []
    },
    "kernelspec": {
      "display_name": "Python 3.10.4 64-bit",
      "language": "python",
      "name": "python3"
    },
    "language_info": {
      "name": "python",
      "version": "3.10.4"
    },
    "vscode": {
      "interpreter": {
        "hash": "26de051ba29f2982a8de78e945f0abaf191376122a1563185a90213a26c5da77"
      }
    }
  },
  "nbformat": 4,
  "nbformat_minor": 0
}